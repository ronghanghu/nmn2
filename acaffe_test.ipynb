{
 "cells": [
  {
   "cell_type": "code",
   "execution_count": 1,
   "metadata": {
    "collapsed": true
   },
   "outputs": [],
   "source": [
    "import os\n",
    "import sys"
   ]
  },
  {
   "cell_type": "code",
   "execution_count": 2,
   "metadata": {
    "collapsed": false
   },
   "outputs": [],
   "source": [
    "import apollocaffe"
   ]
  },
  {
   "cell_type": "code",
   "execution_count": 3,
   "metadata": {
    "collapsed": true
   },
   "outputs": [],
   "source": [
    "from apollocaffe.layers import NumpyData, Convolution, EuclideanLoss\n",
    "import numpy as np"
   ]
  },
  {
   "cell_type": "code",
   "execution_count": 4,
   "metadata": {
    "collapsed": false
   },
   "outputs": [
    {
     "name": "stdout",
     "output_type": "stream",
     "text": [
      "1.5265083312988281\n",
      "0.5481764674186707\n",
      "0.0001384935312671587\n",
      "0.034630175679922104\n",
      "0.007808596361428499\n",
      "0.0004162047989666462\n",
      "0.0003138053580187261\n",
      "3.872235902235843e-05\n",
      "2.1001146706112195e-06\n",
      "4.118089236726519e-06\n"
     ]
    }
   ],
   "source": [
    "net = apollocaffe.ApolloNet()\n",
    "for i in range(1000):\n",
    "    example = np.array(np.random.random()).reshape((1, 1, 1, 1))\n",
    "    net.clear_forward()\n",
    "    net.f(NumpyData('data', example))\n",
    "    net.f(NumpyData('label', example*3))\n",
    "    net.f(Convolution('conv', (1,1), 1, bottoms=['data']))\n",
    "    net.f(EuclideanLoss('loss', bottoms=['conv', 'label']))\n",
    "    net.backward()\n",
    "    net.update(lr=0.1)\n",
    "    if i % 100 == 0:\n",
    "        print(net.loss)"
   ]
  },
  {
   "cell_type": "code",
   "execution_count": 5,
   "metadata": {
    "collapsed": true
   },
   "outputs": [],
   "source": [
    "def_str = '''\n",
    "    name: \"conv122\"\n",
    "    type: \"Convolution\"\n",
    "    bottom: \"data\"\n",
    "    top: \"conv122\"\n",
    "    convolution_param {\n",
    "      num_output: 1\n",
    "      weight_filler {\n",
    "        type: \"xavier\"\n",
    "      }\n",
    "      bias_filler {\n",
    "        type: \"constant\"\n",
    "        value: 0.0\n",
    "      }\n",
    "      kernel_h: 1\n",
    "      kernel_w: 1\n",
    "    }'''"
   ]
  },
  {
   "cell_type": "code",
   "execution_count": 6,
   "metadata": {
    "collapsed": false
   },
   "outputs": [
    {
     "data": {
      "text/plain": [
       "0.0"
      ]
     },
     "execution_count": 6,
     "metadata": {},
     "output_type": "execute_result"
    }
   ],
   "source": [
    "net.f(def_str)"
   ]
  },
  {
   "cell_type": "code",
   "execution_count": 7,
   "metadata": {
    "collapsed": false
   },
   "outputs": [],
   "source": [
    "net.save('./test.h5')"
   ]
  },
  {
   "cell_type": "code",
   "execution_count": 8,
   "metadata": {
    "collapsed": true
   },
   "outputs": [],
   "source": [
    "net.save('./test.caffemodel')"
   ]
  }
 ],
 "metadata": {
  "anaconda-cloud": {},
  "kernelspec": {
   "display_name": "Python [default]",
   "language": "python",
   "name": "python3"
  },
  "language_info": {
   "codemirror_mode": {
    "name": "ipython",
    "version": 3
   },
   "file_extension": ".py",
   "mimetype": "text/x-python",
   "name": "python",
   "nbconvert_exporter": "python",
   "pygments_lexer": "ipython3",
   "version": "3.5.1"
  }
 },
 "nbformat": 4,
 "nbformat_minor": 1
}
